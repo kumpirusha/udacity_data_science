{
 "cells": [
  {
   "cell_type": "markdown",
   "metadata": {},
   "source": [
    "# Popular listings\n",
    "\n",
    "## Import Data and Library"
   ]
  },
  {
   "cell_type": "code",
   "execution_count": 1,
   "metadata": {
    "scrolled": true
   },
   "outputs": [],
   "source": [
    "import pandas as pd\n",
    "import numpy as np\n",
    "import seaborn as sns\n",
    "import matplotlib.pyplot as plt\n",
    "%matplotlib inline"
   ]
  },
  {
   "cell_type": "code",
   "execution_count": 2,
   "metadata": {
    "scrolled": true
   },
   "outputs": [],
   "source": [
    "# reviews.csv will not be used in the analysis due to limited usability\n",
    "calendar_csv = pd.read_csv('./project_1/calendar.csv')\n",
    "listings_csv = pd.read_csv('./project_1/listings.csv')"
   ]
  },
  {
   "cell_type": "markdown",
   "metadata": {},
   "source": [
    "## Project Motivation\n",
    "\n",
    "The final question searches for reasons why some listings are more popular than others. We have calculated a **booked_ratio** from `calendar.csv` where listings which are booked for the date have no price value. We then explore the data and try to gather some insights why some listings have higher ratios than others."
   ]
  },
  {
   "cell_type": "markdown",
   "metadata": {},
   "source": [
    "## Data Cleaning and Preperation\n",
    "\n",
    "Due to the unstructured format in which the .csv files are presented a lot of time and effort had to be invested in cleaning the data."
   ]
  },
  {
   "cell_type": "markdown",
   "metadata": {},
   "source": [
    "First we have checked for missing values in both datasets and dropped variables with more than 50% of the rows missing."
   ]
  },
  {
   "cell_type": "code",
   "execution_count": 3,
   "metadata": {},
   "outputs": [],
   "source": [
    "miss_calendar = calendar_csv.isnull().mean() * 100\n",
    "miss_listings = pd.DataFrame(listings_csv.isnull().mean() * 100, columns=['missing'])"
   ]
  },
  {
   "cell_type": "markdown",
   "metadata": {},
   "source": [
    "No columns were dropped from **calendar_csv** but four columns had to be dropped from **listings_csv** due to the amount of missing values."
   ]
  },
  {
   "cell_type": "code",
   "execution_count": 4,
   "metadata": {
    "scrolled": false
   },
   "outputs": [
    {
     "data": {
      "text/plain": [
       "listing_id     0.000000\n",
       "date           0.000000\n",
       "available      0.000000\n",
       "price         32.938998\n",
       "dtype: float64"
      ]
     },
     "execution_count": 4,
     "metadata": {},
     "output_type": "execute_result"
    }
   ],
   "source": [
    "# No columns to drop from 'calendar_csv'\n",
    "miss_calendar"
   ]
  },
  {
   "cell_type": "code",
   "execution_count": 5,
   "metadata": {
    "scrolled": true
   },
   "outputs": [
    {
     "data": {
      "text/html": [
       "<div>\n",
       "<style scoped>\n",
       "    .dataframe tbody tr th:only-of-type {\n",
       "        vertical-align: middle;\n",
       "    }\n",
       "\n",
       "    .dataframe tbody tr th {\n",
       "        vertical-align: top;\n",
       "    }\n",
       "\n",
       "    .dataframe thead th {\n",
       "        text-align: right;\n",
       "    }\n",
       "</style>\n",
       "<table border=\"1\" class=\"dataframe\">\n",
       "  <thead>\n",
       "    <tr style=\"text-align: right;\">\n",
       "      <th></th>\n",
       "      <th>missing</th>\n",
       "    </tr>\n",
       "  </thead>\n",
       "  <tbody>\n",
       "    <tr>\n",
       "      <th>license</th>\n",
       "      <td>100.000000</td>\n",
       "    </tr>\n",
       "    <tr>\n",
       "      <th>square_feet</th>\n",
       "      <td>97.459403</td>\n",
       "    </tr>\n",
       "    <tr>\n",
       "      <th>monthly_price</th>\n",
       "      <td>60.267156</td>\n",
       "    </tr>\n",
       "    <tr>\n",
       "      <th>security_deposit</th>\n",
       "      <td>51.126244</td>\n",
       "    </tr>\n",
       "    <tr>\n",
       "      <th>weekly_price</th>\n",
       "      <td>47.380828</td>\n",
       "    </tr>\n",
       "    <tr>\n",
       "      <th>notes</th>\n",
       "      <td>42.063908</td>\n",
       "    </tr>\n",
       "    <tr>\n",
       "      <th>neighborhood_overview</th>\n",
       "      <td>27.029859</td>\n",
       "    </tr>\n",
       "    <tr>\n",
       "      <th>cleaning_fee</th>\n",
       "      <td>26.977475</td>\n",
       "    </tr>\n",
       "    <tr>\n",
       "      <th>transit</th>\n",
       "      <td>24.463070</td>\n",
       "    </tr>\n",
       "    <tr>\n",
       "      <th>host_about</th>\n",
       "      <td>22.498690</td>\n",
       "    </tr>\n",
       "    <tr>\n",
       "      <th>host_acceptance_rate</th>\n",
       "      <td>20.246202</td>\n",
       "    </tr>\n",
       "    <tr>\n",
       "      <th>review_scores_accuracy</th>\n",
       "      <td>17.234154</td>\n",
       "    </tr>\n",
       "    <tr>\n",
       "      <th>review_scores_checkin</th>\n",
       "      <td>17.234154</td>\n",
       "    </tr>\n",
       "    <tr>\n",
       "      <th>review_scores_value</th>\n",
       "      <td>17.181771</td>\n",
       "    </tr>\n",
       "    <tr>\n",
       "      <th>review_scores_location</th>\n",
       "      <td>17.155579</td>\n",
       "    </tr>\n",
       "    <tr>\n",
       "      <th>review_scores_cleanliness</th>\n",
       "      <td>17.103195</td>\n",
       "    </tr>\n",
       "    <tr>\n",
       "      <th>review_scores_communication</th>\n",
       "      <td>17.050812</td>\n",
       "    </tr>\n",
       "    <tr>\n",
       "      <th>review_scores_rating</th>\n",
       "      <td>16.946045</td>\n",
       "    </tr>\n",
       "    <tr>\n",
       "      <th>last_review</th>\n",
       "      <td>16.422211</td>\n",
       "    </tr>\n",
       "    <tr>\n",
       "      <th>first_review</th>\n",
       "      <td>16.422211</td>\n",
       "    </tr>\n",
       "    <tr>\n",
       "      <th>reviews_per_month</th>\n",
       "      <td>16.422211</td>\n",
       "    </tr>\n",
       "    <tr>\n",
       "      <th>space</th>\n",
       "      <td>14.903091</td>\n",
       "    </tr>\n",
       "    <tr>\n",
       "      <th>host_response_rate</th>\n",
       "      <td>13.698271</td>\n",
       "    </tr>\n",
       "    <tr>\n",
       "      <th>host_response_time</th>\n",
       "      <td>13.698271</td>\n",
       "    </tr>\n",
       "    <tr>\n",
       "      <th>neighbourhood</th>\n",
       "      <td>10.895757</td>\n",
       "    </tr>\n",
       "    <tr>\n",
       "      <th>xl_picture_url</th>\n",
       "      <td>8.381351</td>\n",
       "    </tr>\n",
       "    <tr>\n",
       "      <th>medium_url</th>\n",
       "      <td>8.381351</td>\n",
       "    </tr>\n",
       "    <tr>\n",
       "      <th>thumbnail_url</th>\n",
       "      <td>8.381351</td>\n",
       "    </tr>\n",
       "    <tr>\n",
       "      <th>host_neighbourhood</th>\n",
       "      <td>7.857517</td>\n",
       "    </tr>\n",
       "    <tr>\n",
       "      <th>summary</th>\n",
       "      <td>4.635935</td>\n",
       "    </tr>\n",
       "    <tr>\n",
       "      <th>bathrooms</th>\n",
       "      <td>0.419068</td>\n",
       "    </tr>\n",
       "    <tr>\n",
       "      <th>host_location</th>\n",
       "      <td>0.209534</td>\n",
       "    </tr>\n",
       "    <tr>\n",
       "      <th>zipcode</th>\n",
       "      <td>0.183342</td>\n",
       "    </tr>\n",
       "    <tr>\n",
       "      <th>bedrooms</th>\n",
       "      <td>0.157150</td>\n",
       "    </tr>\n",
       "    <tr>\n",
       "      <th>host_has_profile_pic</th>\n",
       "      <td>0.052383</td>\n",
       "    </tr>\n",
       "    <tr>\n",
       "      <th>host_total_listings_count</th>\n",
       "      <td>0.052383</td>\n",
       "    </tr>\n",
       "    <tr>\n",
       "      <th>host_listings_count</th>\n",
       "      <td>0.052383</td>\n",
       "    </tr>\n",
       "    <tr>\n",
       "      <th>host_picture_url</th>\n",
       "      <td>0.052383</td>\n",
       "    </tr>\n",
       "    <tr>\n",
       "      <th>host_thumbnail_url</th>\n",
       "      <td>0.052383</td>\n",
       "    </tr>\n",
       "    <tr>\n",
       "      <th>host_is_superhost</th>\n",
       "      <td>0.052383</td>\n",
       "    </tr>\n",
       "    <tr>\n",
       "      <th>host_since</th>\n",
       "      <td>0.052383</td>\n",
       "    </tr>\n",
       "    <tr>\n",
       "      <th>host_name</th>\n",
       "      <td>0.052383</td>\n",
       "    </tr>\n",
       "    <tr>\n",
       "      <th>host_identity_verified</th>\n",
       "      <td>0.052383</td>\n",
       "    </tr>\n",
       "    <tr>\n",
       "      <th>beds</th>\n",
       "      <td>0.026192</td>\n",
       "    </tr>\n",
       "    <tr>\n",
       "      <th>property_type</th>\n",
       "      <td>0.026192</td>\n",
       "    </tr>\n",
       "  </tbody>\n",
       "</table>\n",
       "</div>"
      ],
      "text/plain": [
       "                                missing\n",
       "license                      100.000000\n",
       "square_feet                   97.459403\n",
       "monthly_price                 60.267156\n",
       "security_deposit              51.126244\n",
       "weekly_price                  47.380828\n",
       "notes                         42.063908\n",
       "neighborhood_overview         27.029859\n",
       "cleaning_fee                  26.977475\n",
       "transit                       24.463070\n",
       "host_about                    22.498690\n",
       "host_acceptance_rate          20.246202\n",
       "review_scores_accuracy        17.234154\n",
       "review_scores_checkin         17.234154\n",
       "review_scores_value           17.181771\n",
       "review_scores_location        17.155579\n",
       "review_scores_cleanliness     17.103195\n",
       "review_scores_communication   17.050812\n",
       "review_scores_rating          16.946045\n",
       "last_review                   16.422211\n",
       "first_review                  16.422211\n",
       "reviews_per_month             16.422211\n",
       "space                         14.903091\n",
       "host_response_rate            13.698271\n",
       "host_response_time            13.698271\n",
       "neighbourhood                 10.895757\n",
       "xl_picture_url                 8.381351\n",
       "medium_url                     8.381351\n",
       "thumbnail_url                  8.381351\n",
       "host_neighbourhood             7.857517\n",
       "summary                        4.635935\n",
       "bathrooms                      0.419068\n",
       "host_location                  0.209534\n",
       "zipcode                        0.183342\n",
       "bedrooms                       0.157150\n",
       "host_has_profile_pic           0.052383\n",
       "host_total_listings_count      0.052383\n",
       "host_listings_count            0.052383\n",
       "host_picture_url               0.052383\n",
       "host_thumbnail_url             0.052383\n",
       "host_is_superhost              0.052383\n",
       "host_since                     0.052383\n",
       "host_name                      0.052383\n",
       "host_identity_verified         0.052383\n",
       "beds                           0.026192\n",
       "property_type                  0.026192"
      ]
     },
     "execution_count": 5,
     "metadata": {},
     "output_type": "execute_result"
    }
   ],
   "source": [
    "# Four columns had to be dropped from 'listings_csv' due to amount of missing values\n",
    "miss_listings[miss_listings.missing>0].sort_values(by='missing', ascending=False)"
   ]
  },
  {
   "cell_type": "markdown",
   "metadata": {},
   "source": [
    "We have then merged the two datasets using a _left_join_ on the **calendar_csv** to obtain a full timeseries of bookings and listing information."
   ]
  },
  {
   "cell_type": "code",
   "execution_count": 6,
   "metadata": {},
   "outputs": [],
   "source": [
    "# remove columns with more than half of the data missing and merge the two databases\n",
    "listings_removed_cols = miss_listings[miss_listings.missing > 50]\n",
    "listings_subset = listings_csv.loc[:, ~listings_csv.columns.isin(listings_removed_cols.index)]\n",
    "listings_full = pd.merge(left=calendar_csv, right=listings_subset, how='left', left_on='listing_id',\n",
    "                         right_on='id')"
   ]
  },
  {
   "cell_type": "markdown",
   "metadata": {},
   "source": [
    "The next order of business was to clean the data by replacing values with more meaningful descriptors, parsing numercial variables and reducing the size of the data frame in order to speed up the calculations."
   ]
  },
  {
   "cell_type": "code",
   "execution_count": 7,
   "metadata": {},
   "outputs": [
    {
     "name": "stderr",
     "output_type": "stream",
     "text": [
      "<ipython-input-7-6394f21e52b5>:35: FutureWarning: The default value of regex will change from True to False in a future version. In addition, single character regular expressions will*not* be treated as literal strings when regex=True.\n",
      "  listings_full[col] = listings_full[col].str.replace(',', '').str.replace('$', '').astype(float)\n"
     ]
    }
   ],
   "source": [
    "# remove URL columns which are redundant\n",
    "url_cols = listings_full.filter(like='url')\n",
    "listings_full = listings_full.loc[:, ~listings_full.columns.isin(url_cols.columns)]\n",
    "\n",
    "# rename 'price' columns\n",
    "listings_full.rename(columns={'price_x': 'price'}, errors='raise', inplace=True)\n",
    "\n",
    "# replace values with meaningful descriptors\n",
    "cols_to_replace = {\n",
    "    'host_is_superhost': {'t': 'superhost', 'f': 'regular'},\n",
    "    'available': {'t': 'free', 'f': 'booked'}\n",
    "}\n",
    "\n",
    "for k, v in cols_to_replace.items():\n",
    "    listings_full[k].replace(\n",
    "        to_replace=v,\n",
    "        inplace=True\n",
    "    )\n",
    "\n",
    "# add 'year' and 'month' variables\n",
    "listings_full['year'] = pd.DatetimeIndex(listings_full['date']).year\n",
    "listings_full['month'] = pd.DatetimeIndex(listings_full['date']).month\n",
    "\n",
    "# drop cols with single unique value\n",
    "cols_len_one = []\n",
    "\n",
    "for i in listings_full.columns:\n",
    "    if len(listings_full[i].unique()) == 1:\n",
    "        cols_len_one.append(i)\n",
    "\n",
    "listings_full = listings_full.loc[:, ~listings_full.columns.isin(cols_len_one)]\n",
    "\n",
    "# reformat price columns into a float dtype\n",
    "for col in ['price', 'weekly_price', 'cleaning_fee', 'extra_people']:\n",
    "    listings_full[col] = listings_full[col].str.replace(',', '').str.replace('$', '').astype(float)\n",
    "\n",
    "# reformat 'host_response_rate'\n",
    "listings_full.host_response_rate = listings_full.host_response_rate.str.replace('%', '').astype(float) / 100\n",
    "\n",
    "# further remove redundant columns\n",
    "cols_to_drop = ['name', 'summary', 'space', 'description', 'neighborhood_overview', 'notes', 'transit',\n",
    "                'host_name', 'host_location', 'host_about', 'street', 'neighborhood_overview', 'zipcode',\n",
    "                'smart_location', 'latitude', 'longitude', 'price_y', 'calendar_updated', 'neighbourhood',\n",
    "                'host_acceptance_rate', 'state', 'city', 'is_location_exact']\n",
    "\n",
    "listings_full = listings_full.loc[:, ~listings_full.columns.isin(cols_to_drop)]"
   ]
  },
  {
   "cell_type": "markdown",
   "metadata": {},
   "source": [
    "Lastly we calculate a ratio which show us what percentage of time the individual listing is booked for."
   ]
  },
  {
   "cell_type": "code",
   "execution_count": 8,
   "metadata": {},
   "outputs": [],
   "source": [
    "booked_listings = listings_full[listings_full['available'].isin(['booked'])]\n",
    "\n",
    "bookings = listings_full.pivot_table(index='id', columns='available', values='listing_id', aggfunc=len)\n",
    "bookings_db = pd.merge(left=listings_csv, right=bookings, how='left', on=['id'])\n",
    "bookings_db.fillna(value={'booked': 0, 'free': 0}, inplace=True)\n",
    "bookings_db['booked_ratio'] = bookings_db.booked / (bookings_db.booked + bookings_db.free)"
   ]
  },
  {
   "cell_type": "markdown",
   "metadata": {},
   "source": [
    "## Data Analysis"
   ]
  },
  {
   "cell_type": "markdown",
   "metadata": {},
   "source": [
    "### Plotting and Data Aggregation\n",
    "\n",
    "This is the only part of the analysis for this part as no models have been applyed. Graphs and tables are the results of this analysis."
   ]
  },
  {
   "cell_type": "code",
   "execution_count": 15,
   "metadata": {},
   "outputs": [
    {
     "data": {
      "image/png": "[encoded data removed]",
      "text/plain": [
       "<Figure size 864x648 with 1 Axes>"
      ]
     },
     "metadata": {
      "needs_background": "light"
     },
     "output_type": "display_data"
    }
   ],
   "source": [
    "# property type\n",
    "prop_type = bookings_db.property_type.unique()\n",
    "# not sure why colors are not working\n",
    "colors=['dodgerblue' if i in ['House', 'Townhouse', 'Apartment', 'Condominium'] else 'orange' for i in prop_type]\n",
    "\n",
    "f, ax = plt.subplots(1, 1, figsize = (12, 9))\n",
    "bookings_db.pivot_table(index=['property_type'], values='booked_ratio', aggfunc=np.mean).sort_values(\n",
    "    'booked_ratio').plot(kind='bar', ax=ax, legend=False, color=colors)\n",
    "plt.title('Booked ratio by property type ', size=20)\n",
    "plt.xlabel(\"Property type\", size=14)\n",
    "plt.ylabel(\"Booked ratio\", size=14)\n",
    "plt.show()"
   ]
  },
  {
   "cell_type": "code",
   "execution_count": 16,
   "metadata": {},
   "outputs": [
    {
     "data": {
      "text/html": [
       "<div>\n",
       "<style scoped>\n",
       "    .dataframe tbody tr th:only-of-type {\n",
       "        vertical-align: middle;\n",
       "    }\n",
       "\n",
       "    .dataframe tbody tr th {\n",
       "        vertical-align: top;\n",
       "    }\n",
       "\n",
       "    .dataframe thead th {\n",
       "        text-align: right;\n",
       "    }\n",
       "</style>\n",
       "<table border=\"1\" class=\"dataframe\">\n",
       "  <thead>\n",
       "    <tr style=\"text-align: right;\">\n",
       "      <th></th>\n",
       "      <th>booked_ratio</th>\n",
       "    </tr>\n",
       "    <tr>\n",
       "      <th>property_type</th>\n",
       "      <th></th>\n",
       "    </tr>\n",
       "  </thead>\n",
       "  <tbody>\n",
       "    <tr>\n",
       "      <th>Chalet</th>\n",
       "      <td>0.087671</td>\n",
       "    </tr>\n",
       "    <tr>\n",
       "      <th>Other</th>\n",
       "      <td>0.134247</td>\n",
       "    </tr>\n",
       "    <tr>\n",
       "      <th>Boat</th>\n",
       "      <td>0.220890</td>\n",
       "    </tr>\n",
       "    <tr>\n",
       "      <th>Bed &amp; Breakfast</th>\n",
       "      <td>0.269752</td>\n",
       "    </tr>\n",
       "    <tr>\n",
       "      <th>Camper/RV</th>\n",
       "      <td>0.278609</td>\n",
       "    </tr>\n",
       "    <tr>\n",
       "      <th>Bungalow</th>\n",
       "      <td>0.303056</td>\n",
       "    </tr>\n",
       "    <tr>\n",
       "      <th>House</th>\n",
       "      <td>0.309708</td>\n",
       "    </tr>\n",
       "    <tr>\n",
       "      <th>Loft</th>\n",
       "      <td>0.322534</td>\n",
       "    </tr>\n",
       "    <tr>\n",
       "      <th>Cabin</th>\n",
       "      <td>0.336986</td>\n",
       "    </tr>\n",
       "    <tr>\n",
       "      <th>Apartment</th>\n",
       "      <td>0.346182</td>\n",
       "    </tr>\n",
       "    <tr>\n",
       "      <th>Townhouse</th>\n",
       "      <td>0.369515</td>\n",
       "    </tr>\n",
       "    <tr>\n",
       "      <th>Treehouse</th>\n",
       "      <td>0.385388</td>\n",
       "    </tr>\n",
       "    <tr>\n",
       "      <th>Dorm</th>\n",
       "      <td>0.416438</td>\n",
       "    </tr>\n",
       "    <tr>\n",
       "      <th>Condominium</th>\n",
       "      <td>0.421165</td>\n",
       "    </tr>\n",
       "    <tr>\n",
       "      <th>Yurt</th>\n",
       "      <td>0.515068</td>\n",
       "    </tr>\n",
       "    <tr>\n",
       "      <th>Tent</th>\n",
       "      <td>0.521096</td>\n",
       "    </tr>\n",
       "  </tbody>\n",
       "</table>\n",
       "</div>"
      ],
      "text/plain": [
       "                 booked_ratio\n",
       "property_type                \n",
       "Chalet               0.087671\n",
       "Other                0.134247\n",
       "Boat                 0.220890\n",
       "Bed & Breakfast      0.269752\n",
       "Camper/RV            0.278609\n",
       "Bungalow             0.303056\n",
       "House                0.309708\n",
       "Loft                 0.322534\n",
       "Cabin                0.336986\n",
       "Apartment            0.346182\n",
       "Townhouse            0.369515\n",
       "Treehouse            0.385388\n",
       "Dorm                 0.416438\n",
       "Condominium          0.421165\n",
       "Yurt                 0.515068\n",
       "Tent                 0.521096"
      ]
     },
     "execution_count": 16,
     "metadata": {},
     "output_type": "execute_result"
    }
   ],
   "source": [
    "bookings_db.pivot_table(index=['property_type'], values='booked_ratio', aggfunc=np.mean).sort_values(\n",
    "    'booked_ratio')"
   ]
  },
  {
   "cell_type": "markdown",
   "metadata": {},
   "source": [
    "We can see from the graph a large discrepancy between the listing property types. If we consider only the property types with enough hosts to be relevant* we can see that the condominiums are the most popular, followed by townhouses, aparments and houses.\n",
    "\n",
    "*relevant listings have been defined in the first question where we were looking for factors that define the listing price. Only listings with more than 50 unique hosts were condidered."
   ]
  },
  {
   "cell_type": "code",
   "execution_count": 10,
   "metadata": {
    "scrolled": false
   },
   "outputs": [
    {
     "data": {
      "image/png": "[encoded data removed]",
      "text/plain": [
       "<Figure size 864x648 with 1 Axes>"
      ]
     },
     "metadata": {
      "needs_background": "light"
     },
     "output_type": "display_data"
    }
   ],
   "source": [
    "# room type\n",
    "f, ax = plt.subplots(1, 1, figsize = (12, 9))\n",
    "bookings_db.pivot_table(index=['room_type'], values='booked_ratio', aggfunc=np.mean).sort_values(\n",
    "    'booked_ratio').plot(kind='bar', ax=ax, legend=False, color = ['orangered', 'darkorange', 'gold'])\n",
    "plt.title('Booked ratio by room type ', size=20)\n",
    "plt.xlabel(\"Room type\", size=14)\n",
    "plt.ylabel(\"Booked ratio\", size=14)\n",
    "plt.show()"
   ]
  },
  {
   "cell_type": "markdown",
   "metadata": {},
   "source": [
    "Looking at the **room_type** variable we can see that entire homes and apartments are the most popular listings. They are almost twice as popular as shared rooms. Private rooms fall somewhere in between judging by the table below."
   ]
  },
  {
   "cell_type": "code",
   "execution_count": 11,
   "metadata": {
    "scrolled": true
   },
   "outputs": [
    {
     "data": {
      "text/html": [
       "<div>\n",
       "<style scoped>\n",
       "    .dataframe tbody tr th:only-of-type {\n",
       "        vertical-align: middle;\n",
       "    }\n",
       "\n",
       "    .dataframe tbody tr th {\n",
       "        vertical-align: top;\n",
       "    }\n",
       "\n",
       "    .dataframe thead th {\n",
       "        text-align: right;\n",
       "    }\n",
       "</style>\n",
       "<table border=\"1\" class=\"dataframe\">\n",
       "  <thead>\n",
       "    <tr style=\"text-align: right;\">\n",
       "      <th></th>\n",
       "      <th>booked_ratio</th>\n",
       "    </tr>\n",
       "    <tr>\n",
       "      <th>room_type</th>\n",
       "      <th></th>\n",
       "    </tr>\n",
       "  </thead>\n",
       "  <tbody>\n",
       "    <tr>\n",
       "      <th>Shared room</th>\n",
       "      <td>0.185997</td>\n",
       "    </tr>\n",
       "    <tr>\n",
       "      <th>Private room</th>\n",
       "      <td>0.275945</td>\n",
       "    </tr>\n",
       "    <tr>\n",
       "      <th>Entire home/apt</th>\n",
       "      <td>0.360391</td>\n",
       "    </tr>\n",
       "  </tbody>\n",
       "</table>\n",
       "</div>"
      ],
      "text/plain": [
       "                 booked_ratio\n",
       "room_type                    \n",
       "Shared room          0.185997\n",
       "Private room         0.275945\n",
       "Entire home/apt      0.360391"
      ]
     },
     "execution_count": 11,
     "metadata": {},
     "output_type": "execute_result"
    }
   ],
   "source": [
    "bookings_db.pivot_table(index=['room_type'], values='booked_ratio', aggfunc=np.mean).sort_values(\n",
    "    'booked_ratio')"
   ]
  },
  {
   "cell_type": "markdown",
   "metadata": {},
   "source": [
    "Next thing on the list were city neighbourhoods. There are 87 neighbourhoods listed in Seattle dataset. Their popularity is bound to vary significantly."
   ]
  },
  {
   "cell_type": "code",
   "execution_count": 12,
   "metadata": {
    "scrolled": true
   },
   "outputs": [
    {
     "name": "stdout",
     "output_type": "stream",
     "text": [
      "Number of uniqu neighbourhoods in Seattle is 87.\n"
     ]
    }
   ],
   "source": [
    "print('Number of uniqu neighbourhoods in Seattle is ', len(bookings_db.neighbourhood_cleansed.unique()), '.', sep='')"
   ]
  },
  {
   "cell_type": "markdown",
   "metadata": {},
   "source": [
    "The most popular neighbourhood appears to be **South Lake Union** which is located in the heart of the city and is filled with tourist attractions ([link](https://en.wikipedia.org/wiki/South_Lake_Union,_Seattle#Landmarks_and_historic_sites)). They are followed by **South Beacon Hill** and **North beach**, all popular tourist locations."
   ]
  },
  {
   "cell_type": "code",
   "execution_count": 13,
   "metadata": {
    "scrolled": true
   },
   "outputs": [
    {
     "data": {
      "text/html": [
       "<div>\n",
       "<style scoped>\n",
       "    .dataframe tbody tr th:only-of-type {\n",
       "        vertical-align: middle;\n",
       "    }\n",
       "\n",
       "    .dataframe tbody tr th {\n",
       "        vertical-align: top;\n",
       "    }\n",
       "\n",
       "    .dataframe thead tr th {\n",
       "        text-align: left;\n",
       "    }\n",
       "\n",
       "    .dataframe thead tr:last-of-type th {\n",
       "        text-align: right;\n",
       "    }\n",
       "</style>\n",
       "<table border=\"1\" class=\"dataframe\">\n",
       "  <thead>\n",
       "    <tr>\n",
       "      <th></th>\n",
       "      <th>average_booked_%</th>\n",
       "      <th>%_of_listings</th>\n",
       "    </tr>\n",
       "    <tr>\n",
       "      <th></th>\n",
       "      <th></th>\n",
       "      <th></th>\n",
       "    </tr>\n",
       "    <tr>\n",
       "      <th>neighbourhood_cleansed</th>\n",
       "      <th></th>\n",
       "      <th></th>\n",
       "    </tr>\n",
       "  </thead>\n",
       "  <tbody>\n",
       "    <tr>\n",
       "      <th>South Lake Union</th>\n",
       "      <td>54.672755</td>\n",
       "      <td>0.707177</td>\n",
       "    </tr>\n",
       "    <tr>\n",
       "      <th>South Beacon Hill</th>\n",
       "      <td>49.794521</td>\n",
       "      <td>0.104767</td>\n",
       "    </tr>\n",
       "    <tr>\n",
       "      <th>North Beach/Blue Ridge</th>\n",
       "      <td>48.610568</td>\n",
       "      <td>0.366684</td>\n",
       "    </tr>\n",
       "    <tr>\n",
       "      <th>Seaview</th>\n",
       "      <td>47.694064</td>\n",
       "      <td>0.314301</td>\n",
       "    </tr>\n",
       "    <tr>\n",
       "      <th>Riverview</th>\n",
       "      <td>45.582192</td>\n",
       "      <td>0.209534</td>\n",
       "    </tr>\n",
       "    <tr>\n",
       "      <th>Montlake</th>\n",
       "      <td>43.677001</td>\n",
       "      <td>0.497643</td>\n",
       "    </tr>\n",
       "    <tr>\n",
       "      <th>Madrona</th>\n",
       "      <td>43.485864</td>\n",
       "      <td>1.231011</td>\n",
       "    </tr>\n",
       "    <tr>\n",
       "      <th>Lower Queen Anne</th>\n",
       "      <td>43.252696</td>\n",
       "      <td>2.462022</td>\n",
       "    </tr>\n",
       "    <tr>\n",
       "      <th>Genesee</th>\n",
       "      <td>42.409347</td>\n",
       "      <td>0.890519</td>\n",
       "    </tr>\n",
       "    <tr>\n",
       "      <th>First Hill</th>\n",
       "      <td>40.892948</td>\n",
       "      <td>2.828706</td>\n",
       "    </tr>\n",
       "  </tbody>\n",
       "</table>\n",
       "</div>"
      ],
      "text/plain": [
       "                       average_booked_% %_of_listings\n",
       "                                                     \n",
       "neighbourhood_cleansed                               \n",
       "South Lake Union              54.672755      0.707177\n",
       "South Beacon Hill             49.794521      0.104767\n",
       "North Beach/Blue Ridge        48.610568      0.366684\n",
       "Seaview                       47.694064      0.314301\n",
       "Riverview                     45.582192      0.209534\n",
       "Montlake                      43.677001      0.497643\n",
       "Madrona                       43.485864      1.231011\n",
       "Lower Queen Anne              43.252696      2.462022\n",
       "Genesee                       42.409347      0.890519\n",
       "First Hill                    40.892948      2.828706"
      ]
     },
     "execution_count": 13,
     "metadata": {},
     "output_type": "execute_result"
    }
   ],
   "source": [
    "# neighbourhood\n",
    "nbrhd=bookings_db.pivot_table(index=['neighbourhood_cleansed'], values=['booked_ratio'], aggfunc=[np.mean, len]).sort_values(\n",
    "    ('mean', 'booked_ratio'), ascending=False)\n",
    "nbrhd['%_of_listings'] = (nbrhd[('len', 'booked_ratio')]/sum(nbrhd[('len', 'booked_ratio')]))*100\n",
    "nbrhd['average_booked_%'] = nbrhd[('mean', 'booked_ratio')]*100 \n",
    "\n",
    "nbrhd.iloc[:, [3,2]][:10]"
   ]
  },
  {
   "cell_type": "markdown",
   "metadata": {},
   "source": [
    "Lastly we have checkced if **cancellation_policy** might affect the popularity of the listings. We can see that that is not the case "
   ]
  },
  {
   "cell_type": "code",
   "execution_count": 14,
   "metadata": {
    "pycharm": {
     "name": "#%%\n"
    },
    "scrolled": true
   },
   "outputs": [
    {
     "data": {
      "image/png": "[encoded data removed]",
      "text/plain": [
       "<Figure size 864x648 with 1 Axes>"
      ]
     },
     "metadata": {
      "needs_background": "light"
     },
     "output_type": "display_data"
    }
   ],
   "source": [
    "f, ax = plt.subplots(1, 1, figsize = (12, 9))\n",
    "bookings_db.pivot_table(index='cancellation_policy', values='booked_ratio', aggfunc=np.mean).plot(kind='bar', ax=ax, \n",
    "                                                                                                  legend=False)\n",
    "plt.title('Booked ratio and Cancellation policy', size=20)\n",
    "plt.xlabel(\"Policy\", size=14)\n",
    "plt.ylabel(\"Booked ratio\", size=14)\n",
    "plt.show()"
   ]
  },
  {
   "cell_type": "code",
   "execution_count": 21,
   "metadata": {},
   "outputs": [
    {
     "data": {
      "text/html": [
       "<div>\n",
       "<style scoped>\n",
       "    .dataframe tbody tr th:only-of-type {\n",
       "        vertical-align: middle;\n",
       "    }\n",
       "\n",
       "    .dataframe tbody tr th {\n",
       "        vertical-align: top;\n",
       "    }\n",
       "\n",
       "    .dataframe thead th {\n",
       "        text-align: right;\n",
       "    }\n",
       "</style>\n",
       "<table border=\"1\" class=\"dataframe\">\n",
       "  <thead>\n",
       "    <tr style=\"text-align: right;\">\n",
       "      <th></th>\n",
       "      <th>booked_ratio</th>\n",
       "    </tr>\n",
       "    <tr>\n",
       "      <th>host_is_superhost</th>\n",
       "      <th></th>\n",
       "    </tr>\n",
       "  </thead>\n",
       "  <tbody>\n",
       "    <tr>\n",
       "      <th>f</th>\n",
       "      <td>0.326489</td>\n",
       "    </tr>\n",
       "    <tr>\n",
       "      <th>t</th>\n",
       "      <td>0.339318</td>\n",
       "    </tr>\n",
       "  </tbody>\n",
       "</table>\n",
       "</div>"
      ],
      "text/plain": [
       "                   booked_ratio\n",
       "host_is_superhost              \n",
       "f                      0.326489\n",
       "t                      0.339318"
      ]
     },
     "execution_count": 21,
     "metadata": {},
     "output_type": "execute_result"
    }
   ],
   "source": [
    "bookings_db.pivot_table(index='host_is_superhost', values='booked_ratio', aggfunc=np.mean)"
   ]
  }
 ],
 "metadata": {
  "kernelspec": {
   "display_name": "Python 3",
   "language": "python",
   "name": "python3"
  },
  "language_info": {
   "codemirror_mode": {
    "name": "ipython",
    "version": 3
   },
   "file_extension": ".py",
   "mimetype": "text/x-python",
   "name": "python",
   "nbconvert_exporter": "python",
   "pygments_lexer": "ipython3",
   "version": "3.8.2"
  },
  "pycharm": {
   "stem_cell": {
    "cell_type": "raw",
    "metadata": {
     "collapsed": false
    },
    "source": []
   }
  }
 },
 "nbformat": 4,
 "nbformat_minor": 4
}
